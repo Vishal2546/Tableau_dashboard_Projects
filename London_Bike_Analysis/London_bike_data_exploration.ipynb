{
 "cells": [
  {
   "cell_type": "code",
   "execution_count": 1,
   "id": "99cab7a1",
   "metadata": {},
   "outputs": [],
   "source": [
    "# Importing all necessary modules\n",
    "import pandas as pd\n",
    "import numpy as np"
   ]
  },
  {
   "cell_type": "code",
   "execution_count": 2,
   "id": "0519eb70",
   "metadata": {},
   "outputs": [],
   "source": [
    "# Read in the csv files as pandas dataframe\n",
    "df=pd.read_csv('london_merged.csv')"
   ]
  },
  {
   "cell_type": "code",
   "execution_count": 3,
   "id": "07839136",
   "metadata": {},
   "outputs": [
    {
     "data": {
      "text/html": [
       "<div>\n",
       "<style scoped>\n",
       "    .dataframe tbody tr th:only-of-type {\n",
       "        vertical-align: middle;\n",
       "    }\n",
       "\n",
       "    .dataframe tbody tr th {\n",
       "        vertical-align: top;\n",
       "    }\n",
       "\n",
       "    .dataframe thead th {\n",
       "        text-align: right;\n",
       "    }\n",
       "</style>\n",
       "<table border=\"1\" class=\"dataframe\">\n",
       "  <thead>\n",
       "    <tr style=\"text-align: right;\">\n",
       "      <th></th>\n",
       "      <th>timestamp</th>\n",
       "      <th>cnt</th>\n",
       "      <th>t1</th>\n",
       "      <th>t2</th>\n",
       "      <th>hum</th>\n",
       "      <th>wind_speed</th>\n",
       "      <th>weather_code</th>\n",
       "      <th>is_holiday</th>\n",
       "      <th>is_weekend</th>\n",
       "      <th>season</th>\n",
       "    </tr>\n",
       "  </thead>\n",
       "  <tbody>\n",
       "    <tr>\n",
       "      <th>0</th>\n",
       "      <td>1/4/2015 0:00</td>\n",
       "      <td>182</td>\n",
       "      <td>3.0</td>\n",
       "      <td>2.0</td>\n",
       "      <td>93.0</td>\n",
       "      <td>6.0</td>\n",
       "      <td>3</td>\n",
       "      <td>0</td>\n",
       "      <td>1</td>\n",
       "      <td>3</td>\n",
       "    </tr>\n",
       "    <tr>\n",
       "      <th>1</th>\n",
       "      <td>1/4/2015 1:00</td>\n",
       "      <td>138</td>\n",
       "      <td>3.0</td>\n",
       "      <td>2.5</td>\n",
       "      <td>93.0</td>\n",
       "      <td>5.0</td>\n",
       "      <td>1</td>\n",
       "      <td>0</td>\n",
       "      <td>1</td>\n",
       "      <td>3</td>\n",
       "    </tr>\n",
       "    <tr>\n",
       "      <th>2</th>\n",
       "      <td>1/4/2015 2:00</td>\n",
       "      <td>134</td>\n",
       "      <td>2.5</td>\n",
       "      <td>2.5</td>\n",
       "      <td>96.5</td>\n",
       "      <td>0.0</td>\n",
       "      <td>1</td>\n",
       "      <td>0</td>\n",
       "      <td>1</td>\n",
       "      <td>3</td>\n",
       "    </tr>\n",
       "    <tr>\n",
       "      <th>3</th>\n",
       "      <td>1/4/2015 3:00</td>\n",
       "      <td>72</td>\n",
       "      <td>2.0</td>\n",
       "      <td>2.0</td>\n",
       "      <td>100.0</td>\n",
       "      <td>0.0</td>\n",
       "      <td>1</td>\n",
       "      <td>0</td>\n",
       "      <td>1</td>\n",
       "      <td>3</td>\n",
       "    </tr>\n",
       "    <tr>\n",
       "      <th>4</th>\n",
       "      <td>1/4/2015 4:00</td>\n",
       "      <td>47</td>\n",
       "      <td>2.0</td>\n",
       "      <td>0.0</td>\n",
       "      <td>93.0</td>\n",
       "      <td>6.5</td>\n",
       "      <td>1</td>\n",
       "      <td>0</td>\n",
       "      <td>1</td>\n",
       "      <td>3</td>\n",
       "    </tr>\n",
       "  </tbody>\n",
       "</table>\n",
       "</div>"
      ],
      "text/plain": [
       "       timestamp  cnt   t1   t2    hum  wind_speed  weather_code  is_holiday  \\\n",
       "0  1/4/2015 0:00  182  3.0  2.0   93.0         6.0             3           0   \n",
       "1  1/4/2015 1:00  138  3.0  2.5   93.0         5.0             1           0   \n",
       "2  1/4/2015 2:00  134  2.5  2.5   96.5         0.0             1           0   \n",
       "3  1/4/2015 3:00   72  2.0  2.0  100.0         0.0             1           0   \n",
       "4  1/4/2015 4:00   47  2.0  0.0   93.0         6.5             1           0   \n",
       "\n",
       "   is_weekend  season  \n",
       "0           1       3  \n",
       "1           1       3  \n",
       "2           1       3  \n",
       "3           1       3  \n",
       "4           1       3  "
      ]
     },
     "execution_count": 3,
     "metadata": {},
     "output_type": "execute_result"
    }
   ],
   "source": [
    "# Display the data\n",
    "df.head()"
   ]
  },
  {
   "cell_type": "code",
   "execution_count": 4,
   "id": "7c7582fc",
   "metadata": {},
   "outputs": [
    {
     "name": "stdout",
     "output_type": "stream",
     "text": [
      "<class 'pandas.core.frame.DataFrame'>\n",
      "RangeIndex: 17414 entries, 0 to 17413\n",
      "Data columns (total 10 columns):\n",
      " #   Column        Non-Null Count  Dtype  \n",
      "---  ------        --------------  -----  \n",
      " 0   timestamp     17414 non-null  object \n",
      " 1   cnt           17414 non-null  int64  \n",
      " 2   t1            17414 non-null  float64\n",
      " 3   t2            17414 non-null  float64\n",
      " 4   hum           17414 non-null  float64\n",
      " 5   wind_speed    17414 non-null  float64\n",
      " 6   weather_code  17414 non-null  int64  \n",
      " 7   is_holiday    17414 non-null  int64  \n",
      " 8   is_weekend    17414 non-null  int64  \n",
      " 9   season        17414 non-null  int64  \n",
      "dtypes: float64(4), int64(5), object(1)\n",
      "memory usage: 1.3+ MB\n"
     ]
    }
   ],
   "source": [
    "# explore the data\n",
    "df.info() # or we can use df.dtypes for data type exploration"
   ]
  },
  {
   "cell_type": "code",
   "execution_count": 5,
   "id": "7ca38ff5",
   "metadata": {},
   "outputs": [
    {
     "data": {
      "text/plain": [
       "(17414, 10)"
      ]
     },
     "execution_count": 5,
     "metadata": {},
     "output_type": "execute_result"
    }
   ],
   "source": [
    "df.shape\n",
    "# total number of rows 17414 and 10 columns"
   ]
  },
  {
   "cell_type": "code",
   "execution_count": 6,
   "id": "99d71bb2",
   "metadata": {},
   "outputs": [
    {
     "data": {
      "text/plain": [
       "1     6150\n",
       "2     4034\n",
       "3     3551\n",
       "7     2141\n",
       "4     1464\n",
       "26      60\n",
       "10      14\n",
       "Name: weather_code, dtype: int64"
      ]
     },
     "execution_count": 6,
     "metadata": {},
     "output_type": "execute_result"
    }
   ],
   "source": [
    "# count the unique values in the weather_code column\n",
    "df.weather_code.value_counts()"
   ]
  },
  {
   "cell_type": "code",
   "execution_count": 7,
   "id": "a271d13a",
   "metadata": {},
   "outputs": [
    {
     "data": {
      "text/plain": [
       "0    4394\n",
       "1    4387\n",
       "3    4330\n",
       "2    4303\n",
       "Name: season, dtype: int64"
      ]
     },
     "execution_count": 7,
     "metadata": {},
     "output_type": "execute_result"
    }
   ],
   "source": [
    "# count the unique values in the season column\n",
    "df.season.value_counts()"
   ]
  },
  {
   "cell_type": "code",
   "execution_count": 8,
   "id": "c22e6eaa",
   "metadata": {},
   "outputs": [],
   "source": [
    "# Specifying the column names that I want to see/use\n",
    "\n",
    "new_cols_dict = {\n",
    "    'timestamp':'time',\n",
    "    'cnt':'count',\n",
    "    't1':'temp_real_C',\n",
    "    't2':'temp_feels_like_C',\n",
    "    'hum':'humidity_percentage',\n",
    "    'wind_speed':'wind_speed_kph',\n",
    "    'weather_code':'weather',\n",
    "    'is_holidy':'is_holiday',\n",
    "    'is_weekend':'is_weekend',\n",
    "    'season':'season'\n",
    "}\n",
    "\n",
    "# Renaming the columns to the specified columns names\n",
    "df.rename(new_cols_dict, axis=1, inplace = True)"
   ]
  },
  {
   "cell_type": "code",
   "execution_count": 9,
   "id": "e7604a46",
   "metadata": {},
   "outputs": [],
   "source": [
    "# Calculating the humidity values to percentage(i.e. a value between 0 and 1)\n",
    "df.humidity_percentage = df.humidity_percentage/100"
   ]
  },
  {
   "cell_type": "code",
   "execution_count": 10,
   "id": "759bbaa7",
   "metadata": {},
   "outputs": [],
   "source": [
    "# Creating a season dictionary so that we can map the integer 0-1 t the actual written values\n",
    "season_dict = {\n",
    "    '0':'spring',\n",
    "    '1':'summer',\n",
    "    '2':'autumn',\n",
    "    '3':'winter'\n",
    "}\n",
    "\n",
    "# Creating a weather dictionary so that we can map the integer to the actual written values\n",
    "weather_dict = {\n",
    "    '1':'Clear',\n",
    "    '2':'Scattered clouds',\n",
    "    '3':'Broken clouds',\n",
    "    '4':'Cloudy',\n",
    "    '7':'Rain',\n",
    "    '10':'Rain with thunderstorm',\n",
    "    '26':'Snowfall'\n",
    "}\n",
    "\n",
    "# Changing the season column data type to string\n",
    "df.season=df.season.astype('str')\n",
    "# Mapping the values 0-3 to the actual written sesasons\n",
    "df.season=df.season.map(season_dict)\n",
    "\n",
    "# Changing the weather column data type to string\n",
    "df.weather=df.weather.astype('str')\n",
    "# Mapping the values to the actual written weather\n",
    "df.weather=df.weather.map(weather_dict)"
   ]
  },
  {
   "cell_type": "code",
   "execution_count": 11,
   "id": "90e3aac8",
   "metadata": {},
   "outputs": [
    {
     "data": {
      "text/html": [
       "<div>\n",
       "<style scoped>\n",
       "    .dataframe tbody tr th:only-of-type {\n",
       "        vertical-align: middle;\n",
       "    }\n",
       "\n",
       "    .dataframe tbody tr th {\n",
       "        vertical-align: top;\n",
       "    }\n",
       "\n",
       "    .dataframe thead th {\n",
       "        text-align: right;\n",
       "    }\n",
       "</style>\n",
       "<table border=\"1\" class=\"dataframe\">\n",
       "  <thead>\n",
       "    <tr style=\"text-align: right;\">\n",
       "      <th></th>\n",
       "      <th>time</th>\n",
       "      <th>count</th>\n",
       "      <th>temp_real_C</th>\n",
       "      <th>temp_feels_like_C</th>\n",
       "      <th>humidity_percentage</th>\n",
       "      <th>wind_speed_kph</th>\n",
       "      <th>weather</th>\n",
       "      <th>is_holiday</th>\n",
       "      <th>is_weekend</th>\n",
       "      <th>season</th>\n",
       "    </tr>\n",
       "  </thead>\n",
       "  <tbody>\n",
       "    <tr>\n",
       "      <th>0</th>\n",
       "      <td>1/4/2015 0:00</td>\n",
       "      <td>182</td>\n",
       "      <td>3.0</td>\n",
       "      <td>2.0</td>\n",
       "      <td>0.930</td>\n",
       "      <td>6.0</td>\n",
       "      <td>Broken clouds</td>\n",
       "      <td>0</td>\n",
       "      <td>1</td>\n",
       "      <td>winter</td>\n",
       "    </tr>\n",
       "    <tr>\n",
       "      <th>1</th>\n",
       "      <td>1/4/2015 1:00</td>\n",
       "      <td>138</td>\n",
       "      <td>3.0</td>\n",
       "      <td>2.5</td>\n",
       "      <td>0.930</td>\n",
       "      <td>5.0</td>\n",
       "      <td>Clear</td>\n",
       "      <td>0</td>\n",
       "      <td>1</td>\n",
       "      <td>winter</td>\n",
       "    </tr>\n",
       "    <tr>\n",
       "      <th>2</th>\n",
       "      <td>1/4/2015 2:00</td>\n",
       "      <td>134</td>\n",
       "      <td>2.5</td>\n",
       "      <td>2.5</td>\n",
       "      <td>0.965</td>\n",
       "      <td>0.0</td>\n",
       "      <td>Clear</td>\n",
       "      <td>0</td>\n",
       "      <td>1</td>\n",
       "      <td>winter</td>\n",
       "    </tr>\n",
       "    <tr>\n",
       "      <th>3</th>\n",
       "      <td>1/4/2015 3:00</td>\n",
       "      <td>72</td>\n",
       "      <td>2.0</td>\n",
       "      <td>2.0</td>\n",
       "      <td>1.000</td>\n",
       "      <td>0.0</td>\n",
       "      <td>Clear</td>\n",
       "      <td>0</td>\n",
       "      <td>1</td>\n",
       "      <td>winter</td>\n",
       "    </tr>\n",
       "    <tr>\n",
       "      <th>4</th>\n",
       "      <td>1/4/2015 4:00</td>\n",
       "      <td>47</td>\n",
       "      <td>2.0</td>\n",
       "      <td>0.0</td>\n",
       "      <td>0.930</td>\n",
       "      <td>6.5</td>\n",
       "      <td>Clear</td>\n",
       "      <td>0</td>\n",
       "      <td>1</td>\n",
       "      <td>winter</td>\n",
       "    </tr>\n",
       "  </tbody>\n",
       "</table>\n",
       "</div>"
      ],
      "text/plain": [
       "            time  count  temp_real_C  temp_feels_like_C  humidity_percentage  \\\n",
       "0  1/4/2015 0:00    182          3.0                2.0                0.930   \n",
       "1  1/4/2015 1:00    138          3.0                2.5                0.930   \n",
       "2  1/4/2015 2:00    134          2.5                2.5                0.965   \n",
       "3  1/4/2015 3:00     72          2.0                2.0                1.000   \n",
       "4  1/4/2015 4:00     47          2.0                0.0                0.930   \n",
       "\n",
       "   wind_speed_kph        weather  is_holiday  is_weekend  season  \n",
       "0             6.0  Broken clouds           0           1  winter  \n",
       "1             5.0          Clear           0           1  winter  \n",
       "2             0.0          Clear           0           1  winter  \n",
       "3             0.0          Clear           0           1  winter  \n",
       "4             6.5          Clear           0           1  winter  "
      ]
     },
     "execution_count": 11,
     "metadata": {},
     "output_type": "execute_result"
    }
   ],
   "source": [
    "# Checking the dataframe to see if the mapping have worked\n",
    "df.head()"
   ]
  },
  {
   "cell_type": "code",
   "execution_count": 12,
   "id": "464473ba",
   "metadata": {},
   "outputs": [],
   "source": [
    "# Writing the final dataframe to an excel file that we willl use in my Tableau visualization. The file will be the 'london_bikes_final.xlsx'\n",
    "df.to_excel('london_bikes_final.xlsx', sheet_name='Data')"
   ]
  }
 ],
 "metadata": {
  "kernelspec": {
   "display_name": "Python 3 (ipykernel)",
   "language": "python",
   "name": "python3"
  },
  "language_info": {
   "codemirror_mode": {
    "name": "ipython",
    "version": 3
   },
   "file_extension": ".py",
   "mimetype": "text/x-python",
   "name": "python",
   "nbconvert_exporter": "python",
   "pygments_lexer": "ipython3",
   "version": "3.9.12"
  }
 },
 "nbformat": 4,
 "nbformat_minor": 5
}
